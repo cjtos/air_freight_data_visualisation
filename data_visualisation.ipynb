{
 "cells": [
  {
   "cell_type": "code",
   "execution_count": 3,
   "id": "07daf874",
   "metadata": {},
   "outputs": [
    {
     "data": {
      "text/html": [
       "<div>\n",
       "<style scoped>\n",
       "    .dataframe tbody tr th:only-of-type {\n",
       "        vertical-align: middle;\n",
       "    }\n",
       "\n",
       "    .dataframe tbody tr th {\n",
       "        vertical-align: top;\n",
       "    }\n",
       "\n",
       "    .dataframe thead th {\n",
       "        text-align: right;\n",
       "    }\n",
       "</style>\n",
       "<table border=\"1\" class=\"dataframe\">\n",
       "  <thead>\n",
       "    <tr style=\"text-align: right;\">\n",
       "      <th></th>\n",
       "      <th>Month</th>\n",
       "      <th>Scheduled Operator</th>\n",
       "      <th>Country to/from</th>\n",
       "      <th>Passengers In</th>\n",
       "      <th>Freight In</th>\n",
       "      <th>Mail In</th>\n",
       "      <th>Passengers Out</th>\n",
       "      <th>Freight Out</th>\n",
       "      <th>Mail Out</th>\n",
       "      <th>Year</th>\n",
       "    </tr>\n",
       "  </thead>\n",
       "  <tbody>\n",
       "    <tr>\n",
       "      <th>0</th>\n",
       "      <td>01/01/2009</td>\n",
       "      <td>Aerolineas Argentinas</td>\n",
       "      <td>Argentina</td>\n",
       "      <td>3021.0</td>\n",
       "      <td>4.313</td>\n",
       "      <td>0.600</td>\n",
       "      <td>1959.0</td>\n",
       "      <td>8.311</td>\n",
       "      <td>0.000</td>\n",
       "      <td>2009</td>\n",
       "    </tr>\n",
       "    <tr>\n",
       "      <th>1</th>\n",
       "      <td>01/01/2009</td>\n",
       "      <td>Aerolineas Argentinas</td>\n",
       "      <td>New Zealand</td>\n",
       "      <td>627.0</td>\n",
       "      <td>76.260</td>\n",
       "      <td>0.000</td>\n",
       "      <td>1821.0</td>\n",
       "      <td>68.539</td>\n",
       "      <td>0.000</td>\n",
       "      <td>2009</td>\n",
       "    </tr>\n",
       "    <tr>\n",
       "      <th>2</th>\n",
       "      <td>01/01/2009</td>\n",
       "      <td>Air Caledonie</td>\n",
       "      <td>New Caledonia</td>\n",
       "      <td>6658.0</td>\n",
       "      <td>4.918</td>\n",
       "      <td>0.645</td>\n",
       "      <td>5365.0</td>\n",
       "      <td>68.621</td>\n",
       "      <td>1.291</td>\n",
       "      <td>2009</td>\n",
       "    </tr>\n",
       "    <tr>\n",
       "      <th>3</th>\n",
       "      <td>01/01/2009</td>\n",
       "      <td>Air Canada</td>\n",
       "      <td>Canada</td>\n",
       "      <td>7489.0</td>\n",
       "      <td>174.828</td>\n",
       "      <td>0.004</td>\n",
       "      <td>6424.0</td>\n",
       "      <td>105.191</td>\n",
       "      <td>0.016</td>\n",
       "      <td>2009</td>\n",
       "    </tr>\n",
       "    <tr>\n",
       "      <th>4</th>\n",
       "      <td>01/01/2009</td>\n",
       "      <td>Air China</td>\n",
       "      <td>China</td>\n",
       "      <td>12458.0</td>\n",
       "      <td>201.314</td>\n",
       "      <td>18.569</td>\n",
       "      <td>11163.0</td>\n",
       "      <td>142.408</td>\n",
       "      <td>2.930</td>\n",
       "      <td>2009</td>\n",
       "    </tr>\n",
       "  </tbody>\n",
       "</table>\n",
       "</div>"
      ],
      "text/plain": [
       "        Month     Scheduled Operator Country to/from  Passengers In  \\\n",
       "0  01/01/2009  Aerolineas Argentinas       Argentina         3021.0   \n",
       "1  01/01/2009  Aerolineas Argentinas     New Zealand          627.0   \n",
       "2  01/01/2009          Air Caledonie   New Caledonia         6658.0   \n",
       "3  01/01/2009             Air Canada          Canada         7489.0   \n",
       "4  01/01/2009              Air China           China        12458.0   \n",
       "\n",
       "   Freight In  Mail In  Passengers Out  Freight Out  Mail Out  Year  \n",
       "0       4.313    0.600          1959.0        8.311     0.000  2009  \n",
       "1      76.260    0.000          1821.0       68.539     0.000  2009  \n",
       "2       4.918    0.645          5365.0       68.621     1.291  2009  \n",
       "3     174.828    0.004          6424.0      105.191     0.016  2009  \n",
       "4     201.314   18.569         11163.0      142.408     2.930  2009  "
      ]
     },
     "execution_count": 3,
     "metadata": {},
     "output_type": "execute_result"
    }
   ],
   "source": [
    "import pandas as pd\n",
    "import matplotlib.pyplot as plt\n",
    "import plotly.express as px\n",
    "\n",
    "#data taken from BITRE international airline activity from Jan 2009 to March 2024\n",
    "port = pd.read_csv('port_operations.csv')\n",
    "port.head(5)"
   ]
  },
  {
   "cell_type": "code",
   "execution_count": 4,
   "id": "0373c004",
   "metadata": {},
   "outputs": [
    {
     "data": {
      "text/plain": [
       "Month                  object\n",
       "Scheduled Operator     object\n",
       "Country to/from        object\n",
       "Passengers In         float64\n",
       "Freight In            float64\n",
       "Mail In               float64\n",
       "Passengers Out        float64\n",
       "Freight Out           float64\n",
       "Mail Out              float64\n",
       "Year                    int64\n",
       "dtype: object"
      ]
     },
     "execution_count": 4,
     "metadata": {},
     "output_type": "execute_result"
    }
   ],
   "source": [
    "port_year = port[(port['Year'] >= 2009) & (port['Year'] <= 2024)]\n",
    "port_year\n",
    "port_year.dtypes"
   ]
  },
  {
   "cell_type": "code",
   "execution_count": 5,
   "id": "f32818e2",
   "metadata": {},
   "outputs": [
    {
     "data": {
      "text/plain": [
       "array(['Argentina', 'New Zealand', 'New Caledonia', 'Canada', 'China',\n",
       "       'Mauritius', 'Cook Islands', 'Germany', 'USA', 'Papua New Guinea',\n",
       "       'Fiji', 'Tahiti', 'Vanuatu', 'Malaysia', 'Indonesia', 'Korea',\n",
       "       'Singapore', 'Thailand', 'UK', 'Luxembourg', 'Hong Kong (SAR)',\n",
       "       'Taiwan', 'Guam', 'United Arab Emirates', 'Philippines', 'Japan',\n",
       "       'Vietnam', 'Chile', 'Nauru', 'Solomon Islands', 'India',\n",
       "       'South Africa', 'Brunei', 'Tonga', 'Western Samoa', 'Qatar',\n",
       "       'France', 'Reunion', 'Macau', 'Kiribati', 'Nigeria', 'Brazil',\n",
       "       'Turkey', 'Kazakhstan', 'Netherlands', 'Uruguay', 'Laos',\n",
       "       'Sri Lanka', 'Bahrain', 'Peru', 'Cambodia', 'East Timor', 'Italy',\n",
       "       'Palau', 'Azerbaijan'], dtype=object)"
      ]
     },
     "execution_count": 5,
     "metadata": {},
     "output_type": "execute_result"
    }
   ],
   "source": [
    "port_year['Month'] = pd.to_datetime(port_year['Month'], format='%d/%m/%Y')\n",
    "port_year.dtypes\n",
    "port_year.head(5)\n",
    "\n",
    "port_replaced = port_year.fillna(0)\n",
    "port_replaced['Country to/from'].unique()"
   ]
  },
  {
   "cell_type": "code",
   "execution_count": 6,
   "id": "4e74ffd7",
   "metadata": {},
   "outputs": [
    {
     "name": "stdout",
     "output_type": "stream",
     "text": [
      "Month                 0\n",
      "Scheduled Operator    0\n",
      "Country to/from       0\n",
      "Passengers In         0\n",
      "Freight In            0\n",
      "Mail In               0\n",
      "Passengers Out        0\n",
      "Freight Out           0\n",
      "Mail Out              0\n",
      "Year                  0\n",
      "Continent             0\n",
      "dtype: int64\n"
     ]
    },
    {
     "data": {
      "text/html": [
       "<div>\n",
       "<style scoped>\n",
       "    .dataframe tbody tr th:only-of-type {\n",
       "        vertical-align: middle;\n",
       "    }\n",
       "\n",
       "    .dataframe tbody tr th {\n",
       "        vertical-align: top;\n",
       "    }\n",
       "\n",
       "    .dataframe thead th {\n",
       "        text-align: right;\n",
       "    }\n",
       "</style>\n",
       "<table border=\"1\" class=\"dataframe\">\n",
       "  <thead>\n",
       "    <tr style=\"text-align: right;\">\n",
       "      <th></th>\n",
       "      <th></th>\n",
       "      <th>Passengers In</th>\n",
       "      <th>Freight In</th>\n",
       "      <th>Mail In</th>\n",
       "      <th>Passengers Out</th>\n",
       "      <th>Freight Out</th>\n",
       "      <th>Mail Out</th>\n",
       "      <th>Total Passengers</th>\n",
       "      <th>Total Freight</th>\n",
       "      <th>Total Mail</th>\n",
       "    </tr>\n",
       "    <tr>\n",
       "      <th>Year</th>\n",
       "      <th>Continent</th>\n",
       "      <th></th>\n",
       "      <th></th>\n",
       "      <th></th>\n",
       "      <th></th>\n",
       "      <th></th>\n",
       "      <th></th>\n",
       "      <th></th>\n",
       "      <th></th>\n",
       "      <th></th>\n",
       "    </tr>\n",
       "  </thead>\n",
       "  <tbody>\n",
       "    <tr>\n",
       "      <th rowspan=\"6\" valign=\"top\">2009</th>\n",
       "      <th>Africa</th>\n",
       "      <td>45570.0</td>\n",
       "      <td>452.346</td>\n",
       "      <td>27.950</td>\n",
       "      <td>38654.0</td>\n",
       "      <td>727.469</td>\n",
       "      <td>34.149</td>\n",
       "      <td>84224.0</td>\n",
       "      <td>1179.815</td>\n",
       "      <td>62.099</td>\n",
       "    </tr>\n",
       "    <tr>\n",
       "      <th>Asia</th>\n",
       "      <td>1968167.0</td>\n",
       "      <td>54990.274</td>\n",
       "      <td>3137.537</td>\n",
       "      <td>1669543.0</td>\n",
       "      <td>64221.469</td>\n",
       "      <td>1248.930</td>\n",
       "      <td>3637710.0</td>\n",
       "      <td>119211.743</td>\n",
       "      <td>4386.467</td>\n",
       "    </tr>\n",
       "    <tr>\n",
       "      <th>Europe</th>\n",
       "      <td>98641.0</td>\n",
       "      <td>2871.070</td>\n",
       "      <td>388.713</td>\n",
       "      <td>98877.0</td>\n",
       "      <td>786.923</td>\n",
       "      <td>570.338</td>\n",
       "      <td>197518.0</td>\n",
       "      <td>3657.993</td>\n",
       "      <td>959.051</td>\n",
       "    </tr>\n",
       "    <tr>\n",
       "      <th>North America</th>\n",
       "      <td>221652.0</td>\n",
       "      <td>10870.657</td>\n",
       "      <td>820.301</td>\n",
       "      <td>206458.0</td>\n",
       "      <td>3634.666</td>\n",
       "      <td>548.520</td>\n",
       "      <td>428110.0</td>\n",
       "      <td>14505.323</td>\n",
       "      <td>1368.821</td>\n",
       "    </tr>\n",
       "    <tr>\n",
       "      <th>Oceania</th>\n",
       "      <td>770222.0</td>\n",
       "      <td>14812.581</td>\n",
       "      <td>672.893</td>\n",
       "      <td>745103.0</td>\n",
       "      <td>13957.797</td>\n",
       "      <td>560.415</td>\n",
       "      <td>1515325.0</td>\n",
       "      <td>28770.378</td>\n",
       "      <td>1233.308</td>\n",
       "    </tr>\n",
       "    <tr>\n",
       "      <th>South America</th>\n",
       "      <td>26698.0</td>\n",
       "      <td>489.049</td>\n",
       "      <td>5.216</td>\n",
       "      <td>24526.0</td>\n",
       "      <td>289.030</td>\n",
       "      <td>12.939</td>\n",
       "      <td>51224.0</td>\n",
       "      <td>778.079</td>\n",
       "      <td>18.155</td>\n",
       "    </tr>\n",
       "    <tr>\n",
       "      <th>2010</th>\n",
       "      <th>Africa</th>\n",
       "      <td>172294.0</td>\n",
       "      <td>1987.616</td>\n",
       "      <td>80.598</td>\n",
       "      <td>162301.0</td>\n",
       "      <td>3511.156</td>\n",
       "      <td>151.841</td>\n",
       "      <td>334595.0</td>\n",
       "      <td>5498.772</td>\n",
       "      <td>232.439</td>\n",
       "    </tr>\n",
       "  </tbody>\n",
       "</table>\n",
       "</div>"
      ],
      "text/plain": [
       "                    Passengers In  Freight In   Mail In  Passengers Out  \\\n",
       "Year Continent                                                            \n",
       "2009 Africa               45570.0     452.346    27.950         38654.0   \n",
       "     Asia               1968167.0   54990.274  3137.537       1669543.0   \n",
       "     Europe               98641.0    2871.070   388.713         98877.0   \n",
       "     North America       221652.0   10870.657   820.301        206458.0   \n",
       "     Oceania             770222.0   14812.581   672.893        745103.0   \n",
       "     South America        26698.0     489.049     5.216         24526.0   \n",
       "2010 Africa              172294.0    1987.616    80.598        162301.0   \n",
       "\n",
       "                    Freight Out  Mail Out  Total Passengers  Total Freight  \\\n",
       "Year Continent                                                               \n",
       "2009 Africa             727.469    34.149           84224.0       1179.815   \n",
       "     Asia             64221.469  1248.930         3637710.0     119211.743   \n",
       "     Europe             786.923   570.338          197518.0       3657.993   \n",
       "     North America     3634.666   548.520          428110.0      14505.323   \n",
       "     Oceania          13957.797   560.415         1515325.0      28770.378   \n",
       "     South America      289.030    12.939           51224.0        778.079   \n",
       "2010 Africa            3511.156   151.841          334595.0       5498.772   \n",
       "\n",
       "                    Total Mail  \n",
       "Year Continent                  \n",
       "2009 Africa             62.099  \n",
       "     Asia             4386.467  \n",
       "     Europe            959.051  \n",
       "     North America    1368.821  \n",
       "     Oceania          1233.308  \n",
       "     South America      18.155  \n",
       "2010 Africa            232.439  "
      ]
     },
     "execution_count": 6,
     "metadata": {},
     "output_type": "execute_result"
    }
   ],
   "source": [
    "#Mapping countries to continents\n",
    "continent_mapping = {\n",
    "    'Africa': ['South Africa', 'Mauritius', 'Nigeria', 'Reunion'],\n",
    "    'Asia': ['Indonesia', 'Turkey', 'Macau', 'United Arab Emirates', 'Hong Kong (SAR)', 'Malaysia', 'Singapore', 'Thailand', 'China', 'Japan', 'India', 'Vietnam', 'Qatar', 'Philippines', 'Fiji', 'South Korea', 'Taiwan', 'Brunei', 'Korea', 'Sri Lanka', 'Cambodia', 'East Timor', 'Laos', 'Bahrain', 'Kazakhstan', 'Azerbaijan'],\n",
    "    'Europe': ['UK', 'Germany', 'Italy', 'France', 'Luxembourg', 'Netherlands'],\n",
    "    'North America': ['USA', 'Canada'],\n",
    "    'Oceania': ['New Zealand', 'Tahiti', 'Guam', 'Australia', 'Western Samoa', 'Vanuatu', 'Solomon Islands', 'Nauru', 'New Caledonia', 'Papua New Guinea', 'Cook Islands', 'Tonga', 'Palau', 'Kiribati'],\n",
    "    'South America': ['Argentina', 'Brazil', 'Chile', 'Peru', 'Uruguay']\n",
    "}\n",
    "\n",
    "def get_continent(country):\n",
    "    for continent, countries in continent_mapping.items():\n",
    "        if country in countries:\n",
    "            return continent\n",
    "    return 'Unknown'\n",
    "\n",
    "#Continent column added to port_replaced\n",
    "port_replaced['Continent'] = port_replaced['Country to/from'].apply(get_continent)\n",
    "print(port_replaced.isnull().sum())\n",
    "\n",
    "port_replaced['Total Passengers'] = port_replaced['Passengers In'] + port_replaced['Passengers Out']\n",
    "port_replaced['Total Freight'] = port_replaced['Freight In'] + port_replaced['Freight Out']\n",
    "port_replaced['Total Mail'] = port_replaced['Mail In'] + port_replaced['Mail Out']\n",
    "\n",
    "sum_by_country = port_replaced.groupby(['Year', 'Continent']).sum()\n",
    "sum_by_country.head(7)"
   ]
  },
  {
   "cell_type": "code",
   "execution_count": 7,
   "id": "9442d18e",
   "metadata": {},
   "outputs": [
    {
     "data": {
      "text/html": [
       "<div>\n",
       "<style scoped>\n",
       "    .dataframe tbody tr th:only-of-type {\n",
       "        vertical-align: middle;\n",
       "    }\n",
       "\n",
       "    .dataframe tbody tr th {\n",
       "        vertical-align: top;\n",
       "    }\n",
       "\n",
       "    .dataframe thead th {\n",
       "        text-align: right;\n",
       "    }\n",
       "</style>\n",
       "<table border=\"1\" class=\"dataframe\">\n",
       "  <thead>\n",
       "    <tr style=\"text-align: right;\">\n",
       "      <th></th>\n",
       "      <th></th>\n",
       "      <th>Passengers In</th>\n",
       "      <th>Freight In</th>\n",
       "      <th>Mail In</th>\n",
       "      <th>Passengers Out</th>\n",
       "      <th>Freight Out</th>\n",
       "      <th>Mail Out</th>\n",
       "      <th>Total Passengers</th>\n",
       "      <th>Total Freight</th>\n",
       "      <th>Total Mail</th>\n",
       "    </tr>\n",
       "    <tr>\n",
       "      <th>Year</th>\n",
       "      <th>Continent</th>\n",
       "      <th></th>\n",
       "      <th></th>\n",
       "      <th></th>\n",
       "      <th></th>\n",
       "      <th></th>\n",
       "      <th></th>\n",
       "      <th></th>\n",
       "      <th></th>\n",
       "      <th></th>\n",
       "    </tr>\n",
       "  </thead>\n",
       "  <tbody>\n",
       "    <tr>\n",
       "      <th rowspan=\"5\" valign=\"top\">2009</th>\n",
       "      <th>Africa</th>\n",
       "      <td>45570.0</td>\n",
       "      <td>452.346</td>\n",
       "      <td>27.950</td>\n",
       "      <td>38654.0</td>\n",
       "      <td>727.469</td>\n",
       "      <td>34.149</td>\n",
       "      <td>84224.0</td>\n",
       "      <td>1179.815</td>\n",
       "      <td>62.099</td>\n",
       "    </tr>\n",
       "    <tr>\n",
       "      <th>Europe</th>\n",
       "      <td>98641.0</td>\n",
       "      <td>2871.070</td>\n",
       "      <td>388.713</td>\n",
       "      <td>98877.0</td>\n",
       "      <td>786.923</td>\n",
       "      <td>570.338</td>\n",
       "      <td>197518.0</td>\n",
       "      <td>3657.993</td>\n",
       "      <td>959.051</td>\n",
       "    </tr>\n",
       "    <tr>\n",
       "      <th>North America</th>\n",
       "      <td>221652.0</td>\n",
       "      <td>10870.657</td>\n",
       "      <td>820.301</td>\n",
       "      <td>206458.0</td>\n",
       "      <td>3634.666</td>\n",
       "      <td>548.520</td>\n",
       "      <td>428110.0</td>\n",
       "      <td>14505.323</td>\n",
       "      <td>1368.821</td>\n",
       "    </tr>\n",
       "    <tr>\n",
       "      <th>Oceania</th>\n",
       "      <td>770222.0</td>\n",
       "      <td>14812.581</td>\n",
       "      <td>672.893</td>\n",
       "      <td>745103.0</td>\n",
       "      <td>13957.797</td>\n",
       "      <td>560.415</td>\n",
       "      <td>1515325.0</td>\n",
       "      <td>28770.378</td>\n",
       "      <td>1233.308</td>\n",
       "    </tr>\n",
       "    <tr>\n",
       "      <th>South America</th>\n",
       "      <td>26698.0</td>\n",
       "      <td>489.049</td>\n",
       "      <td>5.216</td>\n",
       "      <td>24526.0</td>\n",
       "      <td>289.030</td>\n",
       "      <td>12.939</td>\n",
       "      <td>51224.0</td>\n",
       "      <td>778.079</td>\n",
       "      <td>18.155</td>\n",
       "    </tr>\n",
       "    <tr>\n",
       "      <th rowspan=\"2\" valign=\"top\">2010</th>\n",
       "      <th>Africa</th>\n",
       "      <td>172294.0</td>\n",
       "      <td>1987.616</td>\n",
       "      <td>80.598</td>\n",
       "      <td>162301.0</td>\n",
       "      <td>3511.156</td>\n",
       "      <td>151.841</td>\n",
       "      <td>334595.0</td>\n",
       "      <td>5498.772</td>\n",
       "      <td>232.439</td>\n",
       "    </tr>\n",
       "    <tr>\n",
       "      <th>Europe</th>\n",
       "      <td>371456.0</td>\n",
       "      <td>10891.284</td>\n",
       "      <td>1568.797</td>\n",
       "      <td>367737.0</td>\n",
       "      <td>3322.894</td>\n",
       "      <td>2233.009</td>\n",
       "      <td>739193.0</td>\n",
       "      <td>14214.178</td>\n",
       "      <td>3801.806</td>\n",
       "    </tr>\n",
       "  </tbody>\n",
       "</table>\n",
       "</div>"
      ],
      "text/plain": [
       "                    Passengers In  Freight In   Mail In  Passengers Out  \\\n",
       "Year Continent                                                            \n",
       "2009 Africa               45570.0     452.346    27.950         38654.0   \n",
       "     Europe               98641.0    2871.070   388.713         98877.0   \n",
       "     North America       221652.0   10870.657   820.301        206458.0   \n",
       "     Oceania             770222.0   14812.581   672.893        745103.0   \n",
       "     South America        26698.0     489.049     5.216         24526.0   \n",
       "2010 Africa              172294.0    1987.616    80.598        162301.0   \n",
       "     Europe              371456.0   10891.284  1568.797        367737.0   \n",
       "\n",
       "                    Freight Out  Mail Out  Total Passengers  Total Freight  \\\n",
       "Year Continent                                                               \n",
       "2009 Africa             727.469    34.149           84224.0       1179.815   \n",
       "     Europe             786.923   570.338          197518.0       3657.993   \n",
       "     North America     3634.666   548.520          428110.0      14505.323   \n",
       "     Oceania          13957.797   560.415         1515325.0      28770.378   \n",
       "     South America      289.030    12.939           51224.0        778.079   \n",
       "2010 Africa            3511.156   151.841          334595.0       5498.772   \n",
       "     Europe            3322.894  2233.009          739193.0      14214.178   \n",
       "\n",
       "                    Total Mail  \n",
       "Year Continent                  \n",
       "2009 Africa             62.099  \n",
       "     Europe            959.051  \n",
       "     North America    1368.821  \n",
       "     Oceania          1233.308  \n",
       "     South America      18.155  \n",
       "2010 Africa            232.439  \n",
       "     Europe           3801.806  "
      ]
     },
     "execution_count": 7,
     "metadata": {},
     "output_type": "execute_result"
    }
   ],
   "source": [
    "#exclude Asia continent because it is the largest continent\n",
    "port_replaced_except_asia_na = port_replaced[port_replaced['Continent'] != 'Asia']\n",
    "sum_by_country_ea_na = port_replaced_except_asia_na.groupby(['Year', 'Continent']).sum()\n",
    "sum_by_country_ea_na.head(7)"
   ]
  },
  {
   "cell_type": "code",
   "execution_count": 8,
   "id": "0281ec1f",
   "metadata": {},
   "outputs": [
    {
     "data": {
      "application/vnd.plotly.v1+json": {
       "config": {
        "plotlyServerURL": "https://plot.ly"
       },
       "data": [
        {
         "hovertemplate": "<b>%{hovertext}</b><br><br>Continent=Africa<br>Year=%{x}<br>Total Passengers=%{y}<extra></extra>",
         "hovertext": [
          "Africa",
          "Africa",
          "Africa",
          "Africa",
          "Africa",
          "Africa",
          "Africa",
          "Africa",
          "Africa",
          "Africa",
          "Africa",
          "Africa",
          "Africa",
          "Africa",
          "Africa",
          "Africa"
         ],
         "legendgroup": "Africa",
         "line": {
          "color": "#636efa",
          "dash": "solid"
         },
         "marker": {
          "symbol": "circle"
         },
         "mode": "lines",
         "name": "Africa",
         "orientation": "v",
         "showlegend": true,
         "type": "scatter",
         "visible": false,
         "x": [
          2009,
          2010,
          2011,
          2012,
          2013,
          2014,
          2015,
          2016,
          2017,
          2018,
          2019,
          2020,
          2021,
          2022,
          2023,
          2024
         ],
         "xaxis": "x",
         "y": [
          84224,
          334595,
          398615,
          362347,
          364069,
          362153,
          359912,
          352448,
          352285,
          363345,
          354444,
          340783,
          926,
          14433,
          146089,
          186124
         ],
         "yaxis": "y"
        },
        {
         "hovertemplate": "<b>%{hovertext}</b><br><br>Continent=Europe<br>Year=%{x}<br>Total Passengers=%{y}<extra></extra>",
         "hovertext": [
          "Europe",
          "Europe",
          "Europe",
          "Europe",
          "Europe",
          "Europe",
          "Europe",
          "Europe",
          "Europe",
          "Europe",
          "Europe",
          "Europe",
          "Europe",
          "Europe",
          "Europe",
          "Europe"
         ],
         "legendgroup": "Europe",
         "line": {
          "color": "#EF553B",
          "dash": "solid"
         },
         "marker": {
          "symbol": "circle"
         },
         "mode": "lines",
         "name": "Europe",
         "orientation": "v",
         "showlegend": true,
         "type": "scatter",
         "visible": false,
         "x": [
          2009,
          2010,
          2011,
          2012,
          2013,
          2014,
          2015,
          2016,
          2017,
          2018,
          2019,
          2020,
          2021,
          2022,
          2023,
          2024
         ],
         "xaxis": "x",
         "y": [
          197518,
          739193,
          701761,
          689506,
          546262,
          476710,
          410973,
          402933,
          383735,
          397969,
          396296,
          377540,
          3735,
          67180,
          438848,
          426755
         ],
         "yaxis": "y"
        },
        {
         "hovertemplate": "<b>%{hovertext}</b><br><br>Continent=North America<br>Year=%{x}<br>Total Passengers=%{y}<extra></extra>",
         "hovertext": [
          "North America",
          "North America",
          "North America",
          "North America",
          "North America",
          "North America",
          "North America",
          "North America",
          "North America",
          "North America",
          "North America",
          "North America",
          "North America",
          "North America",
          "North America",
          "North America"
         ],
         "legendgroup": "North America",
         "line": {
          "color": "#00cc96",
          "dash": "solid"
         },
         "marker": {
          "symbol": "circle"
         },
         "mode": "lines",
         "name": "North America",
         "orientation": "v",
         "showlegend": true,
         "type": "scatter",
         "visible": false,
         "x": [
          2009,
          2010,
          2011,
          2012,
          2013,
          2014,
          2015,
          2016,
          2017,
          2018,
          2019,
          2020,
          2021,
          2022,
          2023,
          2024
         ],
         "xaxis": "x",
         "y": [
          428110,
          2237246,
          2454738,
          2590398,
          2735008,
          2857018,
          2953839,
          3154752,
          3367178,
          3515231,
          3678598,
          3624471,
          56485,
          274264,
          2215253,
          2719560
         ],
         "yaxis": "y"
        },
        {
         "hovertemplate": "<b>%{hovertext}</b><br><br>Continent=Oceania<br>Year=%{x}<br>Total Passengers=%{y}<extra></extra>",
         "hovertext": [
          "Oceania",
          "Oceania",
          "Oceania",
          "Oceania",
          "Oceania",
          "Oceania",
          "Oceania",
          "Oceania",
          "Oceania",
          "Oceania",
          "Oceania",
          "Oceania",
          "Oceania",
          "Oceania",
          "Oceania",
          "Oceania"
         ],
         "legendgroup": "Oceania",
         "line": {
          "color": "#ab63fa",
          "dash": "solid"
         },
         "marker": {
          "symbol": "circle"
         },
         "mode": "lines",
         "name": "Oceania",
         "orientation": "v",
         "showlegend": true,
         "type": "scatter",
         "visible": true,
         "x": [
          2009,
          2010,
          2011,
          2012,
          2013,
          2014,
          2015,
          2016,
          2017,
          2018,
          2019,
          2020,
          2021,
          2022,
          2023,
          2024
         ],
         "xaxis": "x",
         "y": [
          1515325,
          6058855,
          6296756,
          6408085,
          6540292,
          6802892,
          7140420,
          7558779,
          7712788,
          7881686,
          7997413,
          7798382,
          127270,
          642212,
          5089262,
          7005449
         ],
         "yaxis": "y"
        },
        {
         "hovertemplate": "<b>%{hovertext}</b><br><br>Continent=South America<br>Year=%{x}<br>Total Passengers=%{y}<extra></extra>",
         "hovertext": [
          "South America",
          "South America",
          "South America",
          "South America",
          "South America",
          "South America",
          "South America",
          "South America",
          "South America",
          "South America",
          "South America",
          "South America",
          "South America",
          "South America",
          "South America",
          "South America"
         ],
         "legendgroup": "South America",
         "line": {
          "color": "#FFA15A",
          "dash": "solid"
         },
         "marker": {
          "symbol": "circle"
         },
         "mode": "lines",
         "name": "South America",
         "orientation": "v",
         "showlegend": true,
         "type": "scatter",
         "visible": false,
         "x": [
          2009,
          2010,
          2011,
          2012,
          2013,
          2014,
          2015,
          2016,
          2017,
          2018,
          2019,
          2020,
          2021,
          2022,
          2023,
          2024
         ],
         "xaxis": "x",
         "y": [
          51224,
          180026,
          169743,
          166253,
          201907,
          209883,
          173227,
          206735,
          206813,
          229447,
          255137,
          267382,
          3450,
          582,
          94144,
          211649
         ],
         "yaxis": "y"
        }
       ],
       "layout": {
        "hovermode": "x",
        "legend": {
         "title": {
          "text": "Continent"
         },
         "tracegroupgap": 0
        },
        "showlegend": true,
        "template": {
         "data": {
          "bar": [
           {
            "error_x": {
             "color": "#2a3f5f"
            },
            "error_y": {
             "color": "#2a3f5f"
            },
            "marker": {
             "line": {
              "color": "#E5ECF6",
              "width": 0.5
             },
             "pattern": {
              "fillmode": "overlay",
              "size": 10,
              "solidity": 0.2
             }
            },
            "type": "bar"
           }
          ],
          "barpolar": [
           {
            "marker": {
             "line": {
              "color": "#E5ECF6",
              "width": 0.5
             },
             "pattern": {
              "fillmode": "overlay",
              "size": 10,
              "solidity": 0.2
             }
            },
            "type": "barpolar"
           }
          ],
          "carpet": [
           {
            "aaxis": {
             "endlinecolor": "#2a3f5f",
             "gridcolor": "white",
             "linecolor": "white",
             "minorgridcolor": "white",
             "startlinecolor": "#2a3f5f"
            },
            "baxis": {
             "endlinecolor": "#2a3f5f",
             "gridcolor": "white",
             "linecolor": "white",
             "minorgridcolor": "white",
             "startlinecolor": "#2a3f5f"
            },
            "type": "carpet"
           }
          ],
          "choropleth": [
           {
            "colorbar": {
             "outlinewidth": 0,
             "ticks": ""
            },
            "type": "choropleth"
           }
          ],
          "contour": [
           {
            "colorbar": {
             "outlinewidth": 0,
             "ticks": ""
            },
            "colorscale": [
             [
              0,
              "#0d0887"
             ],
             [
              0.1111111111111111,
              "#46039f"
             ],
             [
              0.2222222222222222,
              "#7201a8"
             ],
             [
              0.3333333333333333,
              "#9c179e"
             ],
             [
              0.4444444444444444,
              "#bd3786"
             ],
             [
              0.5555555555555556,
              "#d8576b"
             ],
             [
              0.6666666666666666,
              "#ed7953"
             ],
             [
              0.7777777777777778,
              "#fb9f3a"
             ],
             [
              0.8888888888888888,
              "#fdca26"
             ],
             [
              1,
              "#f0f921"
             ]
            ],
            "type": "contour"
           }
          ],
          "contourcarpet": [
           {
            "colorbar": {
             "outlinewidth": 0,
             "ticks": ""
            },
            "type": "contourcarpet"
           }
          ],
          "heatmap": [
           {
            "colorbar": {
             "outlinewidth": 0,
             "ticks": ""
            },
            "colorscale": [
             [
              0,
              "#0d0887"
             ],
             [
              0.1111111111111111,
              "#46039f"
             ],
             [
              0.2222222222222222,
              "#7201a8"
             ],
             [
              0.3333333333333333,
              "#9c179e"
             ],
             [
              0.4444444444444444,
              "#bd3786"
             ],
             [
              0.5555555555555556,
              "#d8576b"
             ],
             [
              0.6666666666666666,
              "#ed7953"
             ],
             [
              0.7777777777777778,
              "#fb9f3a"
             ],
             [
              0.8888888888888888,
              "#fdca26"
             ],
             [
              1,
              "#f0f921"
             ]
            ],
            "type": "heatmap"
           }
          ],
          "heatmapgl": [
           {
            "colorbar": {
             "outlinewidth": 0,
             "ticks": ""
            },
            "colorscale": [
             [
              0,
              "#0d0887"
             ],
             [
              0.1111111111111111,
              "#46039f"
             ],
             [
              0.2222222222222222,
              "#7201a8"
             ],
             [
              0.3333333333333333,
              "#9c179e"
             ],
             [
              0.4444444444444444,
              "#bd3786"
             ],
             [
              0.5555555555555556,
              "#d8576b"
             ],
             [
              0.6666666666666666,
              "#ed7953"
             ],
             [
              0.7777777777777778,
              "#fb9f3a"
             ],
             [
              0.8888888888888888,
              "#fdca26"
             ],
             [
              1,
              "#f0f921"
             ]
            ],
            "type": "heatmapgl"
           }
          ],
          "histogram": [
           {
            "marker": {
             "pattern": {
              "fillmode": "overlay",
              "size": 10,
              "solidity": 0.2
             }
            },
            "type": "histogram"
           }
          ],
          "histogram2d": [
           {
            "colorbar": {
             "outlinewidth": 0,
             "ticks": ""
            },
            "colorscale": [
             [
              0,
              "#0d0887"
             ],
             [
              0.1111111111111111,
              "#46039f"
             ],
             [
              0.2222222222222222,
              "#7201a8"
             ],
             [
              0.3333333333333333,
              "#9c179e"
             ],
             [
              0.4444444444444444,
              "#bd3786"
             ],
             [
              0.5555555555555556,
              "#d8576b"
             ],
             [
              0.6666666666666666,
              "#ed7953"
             ],
             [
              0.7777777777777778,
              "#fb9f3a"
             ],
             [
              0.8888888888888888,
              "#fdca26"
             ],
             [
              1,
              "#f0f921"
             ]
            ],
            "type": "histogram2d"
           }
          ],
          "histogram2dcontour": [
           {
            "colorbar": {
             "outlinewidth": 0,
             "ticks": ""
            },
            "colorscale": [
             [
              0,
              "#0d0887"
             ],
             [
              0.1111111111111111,
              "#46039f"
             ],
             [
              0.2222222222222222,
              "#7201a8"
             ],
             [
              0.3333333333333333,
              "#9c179e"
             ],
             [
              0.4444444444444444,
              "#bd3786"
             ],
             [
              0.5555555555555556,
              "#d8576b"
             ],
             [
              0.6666666666666666,
              "#ed7953"
             ],
             [
              0.7777777777777778,
              "#fb9f3a"
             ],
             [
              0.8888888888888888,
              "#fdca26"
             ],
             [
              1,
              "#f0f921"
             ]
            ],
            "type": "histogram2dcontour"
           }
          ],
          "mesh3d": [
           {
            "colorbar": {
             "outlinewidth": 0,
             "ticks": ""
            },
            "type": "mesh3d"
           }
          ],
          "parcoords": [
           {
            "line": {
             "colorbar": {
              "outlinewidth": 0,
              "ticks": ""
             }
            },
            "type": "parcoords"
           }
          ],
          "pie": [
           {
            "automargin": true,
            "type": "pie"
           }
          ],
          "scatter": [
           {
            "fillpattern": {
             "fillmode": "overlay",
             "size": 10,
             "solidity": 0.2
            },
            "type": "scatter"
           }
          ],
          "scatter3d": [
           {
            "line": {
             "colorbar": {
              "outlinewidth": 0,
              "ticks": ""
             }
            },
            "marker": {
             "colorbar": {
              "outlinewidth": 0,
              "ticks": ""
             }
            },
            "type": "scatter3d"
           }
          ],
          "scattercarpet": [
           {
            "marker": {
             "colorbar": {
              "outlinewidth": 0,
              "ticks": ""
             }
            },
            "type": "scattercarpet"
           }
          ],
          "scattergeo": [
           {
            "marker": {
             "colorbar": {
              "outlinewidth": 0,
              "ticks": ""
             }
            },
            "type": "scattergeo"
           }
          ],
          "scattergl": [
           {
            "marker": {
             "colorbar": {
              "outlinewidth": 0,
              "ticks": ""
             }
            },
            "type": "scattergl"
           }
          ],
          "scattermapbox": [
           {
            "marker": {
             "colorbar": {
              "outlinewidth": 0,
              "ticks": ""
             }
            },
            "type": "scattermapbox"
           }
          ],
          "scatterpolar": [
           {
            "marker": {
             "colorbar": {
              "outlinewidth": 0,
              "ticks": ""
             }
            },
            "type": "scatterpolar"
           }
          ],
          "scatterpolargl": [
           {
            "marker": {
             "colorbar": {
              "outlinewidth": 0,
              "ticks": ""
             }
            },
            "type": "scatterpolargl"
           }
          ],
          "scatterternary": [
           {
            "marker": {
             "colorbar": {
              "outlinewidth": 0,
              "ticks": ""
             }
            },
            "type": "scatterternary"
           }
          ],
          "surface": [
           {
            "colorbar": {
             "outlinewidth": 0,
             "ticks": ""
            },
            "colorscale": [
             [
              0,
              "#0d0887"
             ],
             [
              0.1111111111111111,
              "#46039f"
             ],
             [
              0.2222222222222222,
              "#7201a8"
             ],
             [
              0.3333333333333333,
              "#9c179e"
             ],
             [
              0.4444444444444444,
              "#bd3786"
             ],
             [
              0.5555555555555556,
              "#d8576b"
             ],
             [
              0.6666666666666666,
              "#ed7953"
             ],
             [
              0.7777777777777778,
              "#fb9f3a"
             ],
             [
              0.8888888888888888,
              "#fdca26"
             ],
             [
              1,
              "#f0f921"
             ]
            ],
            "type": "surface"
           }
          ],
          "table": [
           {
            "cells": {
             "fill": {
              "color": "#EBF0F8"
             },
             "line": {
              "color": "white"
             }
            },
            "header": {
             "fill": {
              "color": "#C8D4E3"
             },
             "line": {
              "color": "white"
             }
            },
            "type": "table"
           }
          ]
         },
         "layout": {
          "annotationdefaults": {
           "arrowcolor": "#2a3f5f",
           "arrowhead": 0,
           "arrowwidth": 1
          },
          "autotypenumbers": "strict",
          "coloraxis": {
           "colorbar": {
            "outlinewidth": 0,
            "ticks": ""
           }
          },
          "colorscale": {
           "diverging": [
            [
             0,
             "#8e0152"
            ],
            [
             0.1,
             "#c51b7d"
            ],
            [
             0.2,
             "#de77ae"
            ],
            [
             0.3,
             "#f1b6da"
            ],
            [
             0.4,
             "#fde0ef"
            ],
            [
             0.5,
             "#f7f7f7"
            ],
            [
             0.6,
             "#e6f5d0"
            ],
            [
             0.7,
             "#b8e186"
            ],
            [
             0.8,
             "#7fbc41"
            ],
            [
             0.9,
             "#4d9221"
            ],
            [
             1,
             "#276419"
            ]
           ],
           "sequential": [
            [
             0,
             "#0d0887"
            ],
            [
             0.1111111111111111,
             "#46039f"
            ],
            [
             0.2222222222222222,
             "#7201a8"
            ],
            [
             0.3333333333333333,
             "#9c179e"
            ],
            [
             0.4444444444444444,
             "#bd3786"
            ],
            [
             0.5555555555555556,
             "#d8576b"
            ],
            [
             0.6666666666666666,
             "#ed7953"
            ],
            [
             0.7777777777777778,
             "#fb9f3a"
            ],
            [
             0.8888888888888888,
             "#fdca26"
            ],
            [
             1,
             "#f0f921"
            ]
           ],
           "sequentialminus": [
            [
             0,
             "#0d0887"
            ],
            [
             0.1111111111111111,
             "#46039f"
            ],
            [
             0.2222222222222222,
             "#7201a8"
            ],
            [
             0.3333333333333333,
             "#9c179e"
            ],
            [
             0.4444444444444444,
             "#bd3786"
            ],
            [
             0.5555555555555556,
             "#d8576b"
            ],
            [
             0.6666666666666666,
             "#ed7953"
            ],
            [
             0.7777777777777778,
             "#fb9f3a"
            ],
            [
             0.8888888888888888,
             "#fdca26"
            ],
            [
             1,
             "#f0f921"
            ]
           ]
          },
          "colorway": [
           "#636efa",
           "#EF553B",
           "#00cc96",
           "#ab63fa",
           "#FFA15A",
           "#19d3f3",
           "#FF6692",
           "#B6E880",
           "#FF97FF",
           "#FECB52"
          ],
          "font": {
           "color": "#2a3f5f"
          },
          "geo": {
           "bgcolor": "white",
           "lakecolor": "white",
           "landcolor": "#E5ECF6",
           "showlakes": true,
           "showland": true,
           "subunitcolor": "white"
          },
          "hoverlabel": {
           "align": "left"
          },
          "hovermode": "closest",
          "mapbox": {
           "style": "light"
          },
          "paper_bgcolor": "white",
          "plot_bgcolor": "#E5ECF6",
          "polar": {
           "angularaxis": {
            "gridcolor": "white",
            "linecolor": "white",
            "ticks": ""
           },
           "bgcolor": "#E5ECF6",
           "radialaxis": {
            "gridcolor": "white",
            "linecolor": "white",
            "ticks": ""
           }
          },
          "scene": {
           "xaxis": {
            "backgroundcolor": "#E5ECF6",
            "gridcolor": "white",
            "gridwidth": 2,
            "linecolor": "white",
            "showbackground": true,
            "ticks": "",
            "zerolinecolor": "white"
           },
           "yaxis": {
            "backgroundcolor": "#E5ECF6",
            "gridcolor": "white",
            "gridwidth": 2,
            "linecolor": "white",
            "showbackground": true,
            "ticks": "",
            "zerolinecolor": "white"
           },
           "zaxis": {
            "backgroundcolor": "#E5ECF6",
            "gridcolor": "white",
            "gridwidth": 2,
            "linecolor": "white",
            "showbackground": true,
            "ticks": "",
            "zerolinecolor": "white"
           }
          },
          "shapedefaults": {
           "line": {
            "color": "#2a3f5f"
           }
          },
          "ternary": {
           "aaxis": {
            "gridcolor": "white",
            "linecolor": "white",
            "ticks": ""
           },
           "baxis": {
            "gridcolor": "white",
            "linecolor": "white",
            "ticks": ""
           },
           "bgcolor": "#E5ECF6",
           "caxis": {
            "gridcolor": "white",
            "linecolor": "white",
            "ticks": ""
           }
          },
          "title": {
           "x": 0.05
          },
          "xaxis": {
           "automargin": true,
           "gridcolor": "white",
           "linecolor": "white",
           "ticks": "",
           "title": {
            "standoff": 15
           },
           "zerolinecolor": "white",
           "zerolinewidth": 2
          },
          "yaxis": {
           "automargin": true,
           "gridcolor": "white",
           "linecolor": "white",
           "ticks": "",
           "title": {
            "standoff": 15
           },
           "zerolinecolor": "white",
           "zerolinewidth": 2
          }
         }
        },
        "title": {
         "text": "Total Yearly Passengers by Continent",
         "x": 0.5
        },
        "updatemenus": [
         {
          "active": 3,
          "buttons": [
           {
            "args": [
             {
              "visible": [
               true,
               false,
               false,
               false,
               false,
               true,
               false,
               false,
               false,
               false,
               true,
               false,
               false,
               false,
               false,
               true,
               false,
               false,
               false,
               false,
               true,
               false,
               false,
               false,
               false,
               true,
               false,
               false,
               false,
               false,
               true,
               false,
               false,
               false,
               false,
               true,
               false,
               false,
               false,
               false,
               true,
               false,
               false,
               false,
               false,
               true,
               false,
               false,
               false,
               false,
               true,
               false,
               false,
               false,
               false,
               true,
               false,
               false,
               false,
               false,
               true,
               false,
               false,
               false,
               false,
               true,
               false,
               false,
               false,
               false,
               true,
               false,
               false,
               false,
               false,
               true,
               false,
               false,
               false,
               false
              ]
             }
            ],
            "label": "Africa",
            "method": "update"
           },
           {
            "args": [
             {
              "visible": [
               false,
               true,
               false,
               false,
               false,
               false,
               true,
               false,
               false,
               false,
               false,
               true,
               false,
               false,
               false,
               false,
               true,
               false,
               false,
               false,
               false,
               true,
               false,
               false,
               false,
               false,
               true,
               false,
               false,
               false,
               false,
               true,
               false,
               false,
               false,
               false,
               true,
               false,
               false,
               false,
               false,
               true,
               false,
               false,
               false,
               false,
               true,
               false,
               false,
               false,
               false,
               true,
               false,
               false,
               false,
               false,
               true,
               false,
               false,
               false,
               false,
               true,
               false,
               false,
               false,
               false,
               true,
               false,
               false,
               false,
               false,
               true,
               false,
               false,
               false,
               false,
               true,
               false,
               false,
               false
              ]
             }
            ],
            "label": "Europe",
            "method": "update"
           },
           {
            "args": [
             {
              "visible": [
               false,
               false,
               true,
               false,
               false,
               false,
               false,
               true,
               false,
               false,
               false,
               false,
               true,
               false,
               false,
               false,
               false,
               true,
               false,
               false,
               false,
               false,
               true,
               false,
               false,
               false,
               false,
               true,
               false,
               false,
               false,
               false,
               true,
               false,
               false,
               false,
               false,
               true,
               false,
               false,
               false,
               false,
               true,
               false,
               false,
               false,
               false,
               true,
               false,
               false,
               false,
               false,
               true,
               false,
               false,
               false,
               false,
               true,
               false,
               false,
               false,
               false,
               true,
               false,
               false,
               false,
               false,
               true,
               false,
               false,
               false,
               false,
               true,
               false,
               false,
               false,
               false,
               true,
               false,
               false
              ]
             }
            ],
            "label": "North America",
            "method": "update"
           },
           {
            "args": [
             {
              "visible": [
               false,
               false,
               false,
               true,
               false,
               false,
               false,
               false,
               true,
               false,
               false,
               false,
               false,
               true,
               false,
               false,
               false,
               false,
               true,
               false,
               false,
               false,
               false,
               true,
               false,
               false,
               false,
               false,
               true,
               false,
               false,
               false,
               false,
               true,
               false,
               false,
               false,
               false,
               true,
               false,
               false,
               false,
               false,
               true,
               false,
               false,
               false,
               false,
               true,
               false,
               false,
               false,
               false,
               true,
               false,
               false,
               false,
               false,
               true,
               false,
               false,
               false,
               false,
               true,
               false,
               false,
               false,
               false,
               true,
               false,
               false,
               false,
               false,
               true,
               false,
               false,
               false,
               false,
               true,
               false
              ]
             }
            ],
            "label": "Oceania",
            "method": "update"
           },
           {
            "args": [
             {
              "visible": [
               false,
               false,
               false,
               false,
               true,
               false,
               false,
               false,
               false,
               true,
               false,
               false,
               false,
               false,
               true,
               false,
               false,
               false,
               false,
               true,
               false,
               false,
               false,
               false,
               true,
               false,
               false,
               false,
               false,
               true,
               false,
               false,
               false,
               false,
               true,
               false,
               false,
               false,
               false,
               true,
               false,
               false,
               false,
               false,
               true,
               false,
               false,
               false,
               false,
               true,
               false,
               false,
               false,
               false,
               true,
               false,
               false,
               false,
               false,
               true,
               false,
               false,
               false,
               false,
               true,
               false,
               false,
               false,
               false,
               true,
               false,
               false,
               false,
               false,
               true,
               false,
               false,
               false,
               false,
               true
              ]
             }
            ],
            "label": "South America",
            "method": "update"
           }
          ],
          "direction": "down",
          "showactive": true,
          "x": 0.17,
          "xanchor": "right",
          "y": 1.07,
          "yanchor": "middle"
         }
        ],
        "xaxis": {
         "anchor": "y",
         "domain": [
          0,
          1
         ],
         "title": {
          "text": "Year"
         },
         "type": "linear"
        },
        "yaxis": {
         "anchor": "x",
         "domain": [
          0,
          1
         ],
         "title": {
          "text": "Total Passengers"
         }
        }
       }
      },
      "text/html": [
       "<div>                            <div id=\"cd8588bf-0f8c-47dc-843e-c8a84268b29e\" class=\"plotly-graph-div\" style=\"height:525px; width:100%;\"></div>            <script type=\"text/javascript\">                require([\"plotly\"], function(Plotly) {                    window.PLOTLYENV=window.PLOTLYENV || {};                                    if (document.getElementById(\"cd8588bf-0f8c-47dc-843e-c8a84268b29e\")) {                    Plotly.newPlot(                        \"cd8588bf-0f8c-47dc-843e-c8a84268b29e\",                        [{\"hovertemplate\":\"<b>%{hovertext}</b><br><br>Continent=Africa<br>Year=%{x}<br>Total Passengers=%{y}<extra></extra>\",\"hovertext\":[\"Africa\",\"Africa\",\"Africa\",\"Africa\",\"Africa\",\"Africa\",\"Africa\",\"Africa\",\"Africa\",\"Africa\",\"Africa\",\"Africa\",\"Africa\",\"Africa\",\"Africa\",\"Africa\"],\"legendgroup\":\"Africa\",\"line\":{\"color\":\"#636efa\",\"dash\":\"solid\"},\"marker\":{\"symbol\":\"circle\"},\"mode\":\"lines\",\"name\":\"Africa\",\"orientation\":\"v\",\"showlegend\":true,\"x\":[2009,2010,2011,2012,2013,2014,2015,2016,2017,2018,2019,2020,2021,2022,2023,2024],\"xaxis\":\"x\",\"y\":[84224.0,334595.0,398615.0,362347.0,364069.0,362153.0,359912.0,352448.0,352285.0,363345.0,354444.0,340783.0,926.0,14433.0,146089.0,186124.0],\"yaxis\":\"y\",\"type\":\"scatter\",\"visible\":false},{\"hovertemplate\":\"<b>%{hovertext}</b><br><br>Continent=Europe<br>Year=%{x}<br>Total Passengers=%{y}<extra></extra>\",\"hovertext\":[\"Europe\",\"Europe\",\"Europe\",\"Europe\",\"Europe\",\"Europe\",\"Europe\",\"Europe\",\"Europe\",\"Europe\",\"Europe\",\"Europe\",\"Europe\",\"Europe\",\"Europe\",\"Europe\"],\"legendgroup\":\"Europe\",\"line\":{\"color\":\"#EF553B\",\"dash\":\"solid\"},\"marker\":{\"symbol\":\"circle\"},\"mode\":\"lines\",\"name\":\"Europe\",\"orientation\":\"v\",\"showlegend\":true,\"x\":[2009,2010,2011,2012,2013,2014,2015,2016,2017,2018,2019,2020,2021,2022,2023,2024],\"xaxis\":\"x\",\"y\":[197518.0,739193.0,701761.0,689506.0,546262.0,476710.0,410973.0,402933.0,383735.0,397969.0,396296.0,377540.0,3735.0,67180.0,438848.0,426755.0],\"yaxis\":\"y\",\"type\":\"scatter\",\"visible\":false},{\"hovertemplate\":\"<b>%{hovertext}</b><br><br>Continent=North America<br>Year=%{x}<br>Total Passengers=%{y}<extra></extra>\",\"hovertext\":[\"North America\",\"North America\",\"North America\",\"North America\",\"North America\",\"North America\",\"North America\",\"North America\",\"North America\",\"North America\",\"North America\",\"North America\",\"North America\",\"North America\",\"North America\",\"North America\"],\"legendgroup\":\"North America\",\"line\":{\"color\":\"#00cc96\",\"dash\":\"solid\"},\"marker\":{\"symbol\":\"circle\"},\"mode\":\"lines\",\"name\":\"North America\",\"orientation\":\"v\",\"showlegend\":true,\"x\":[2009,2010,2011,2012,2013,2014,2015,2016,2017,2018,2019,2020,2021,2022,2023,2024],\"xaxis\":\"x\",\"y\":[428110.0,2237246.0,2454738.0,2590398.0,2735008.0,2857018.0,2953839.0,3154752.0,3367178.0,3515231.0,3678598.0,3624471.0,56485.0,274264.0,2215253.0,2719560.0],\"yaxis\":\"y\",\"type\":\"scatter\",\"visible\":false},{\"hovertemplate\":\"<b>%{hovertext}</b><br><br>Continent=Oceania<br>Year=%{x}<br>Total Passengers=%{y}<extra></extra>\",\"hovertext\":[\"Oceania\",\"Oceania\",\"Oceania\",\"Oceania\",\"Oceania\",\"Oceania\",\"Oceania\",\"Oceania\",\"Oceania\",\"Oceania\",\"Oceania\",\"Oceania\",\"Oceania\",\"Oceania\",\"Oceania\",\"Oceania\"],\"legendgroup\":\"Oceania\",\"line\":{\"color\":\"#ab63fa\",\"dash\":\"solid\"},\"marker\":{\"symbol\":\"circle\"},\"mode\":\"lines\",\"name\":\"Oceania\",\"orientation\":\"v\",\"showlegend\":true,\"x\":[2009,2010,2011,2012,2013,2014,2015,2016,2017,2018,2019,2020,2021,2022,2023,2024],\"xaxis\":\"x\",\"y\":[1515325.0,6058855.0,6296756.0,6408085.0,6540292.0,6802892.0,7140420.0,7558779.0,7712788.0,7881686.0,7997413.0,7798382.0,127270.0,642212.0,5089262.0,7005449.0],\"yaxis\":\"y\",\"type\":\"scatter\",\"visible\":true},{\"hovertemplate\":\"<b>%{hovertext}</b><br><br>Continent=South America<br>Year=%{x}<br>Total Passengers=%{y}<extra></extra>\",\"hovertext\":[\"South America\",\"South America\",\"South America\",\"South America\",\"South America\",\"South America\",\"South America\",\"South America\",\"South America\",\"South America\",\"South America\",\"South America\",\"South America\",\"South America\",\"South America\",\"South America\"],\"legendgroup\":\"South America\",\"line\":{\"color\":\"#FFA15A\",\"dash\":\"solid\"},\"marker\":{\"symbol\":\"circle\"},\"mode\":\"lines\",\"name\":\"South America\",\"orientation\":\"v\",\"showlegend\":true,\"x\":[2009,2010,2011,2012,2013,2014,2015,2016,2017,2018,2019,2020,2021,2022,2023,2024],\"xaxis\":\"x\",\"y\":[51224.0,180026.0,169743.0,166253.0,201907.0,209883.0,173227.0,206735.0,206813.0,229447.0,255137.0,267382.0,3450.0,582.0,94144.0,211649.0],\"yaxis\":\"y\",\"type\":\"scatter\",\"visible\":false}],                        {\"template\":{\"data\":{\"histogram2dcontour\":[{\"type\":\"histogram2dcontour\",\"colorbar\":{\"outlinewidth\":0,\"ticks\":\"\"},\"colorscale\":[[0.0,\"#0d0887\"],[0.1111111111111111,\"#46039f\"],[0.2222222222222222,\"#7201a8\"],[0.3333333333333333,\"#9c179e\"],[0.4444444444444444,\"#bd3786\"],[0.5555555555555556,\"#d8576b\"],[0.6666666666666666,\"#ed7953\"],[0.7777777777777778,\"#fb9f3a\"],[0.8888888888888888,\"#fdca26\"],[1.0,\"#f0f921\"]]}],\"choropleth\":[{\"type\":\"choropleth\",\"colorbar\":{\"outlinewidth\":0,\"ticks\":\"\"}}],\"histogram2d\":[{\"type\":\"histogram2d\",\"colorbar\":{\"outlinewidth\":0,\"ticks\":\"\"},\"colorscale\":[[0.0,\"#0d0887\"],[0.1111111111111111,\"#46039f\"],[0.2222222222222222,\"#7201a8\"],[0.3333333333333333,\"#9c179e\"],[0.4444444444444444,\"#bd3786\"],[0.5555555555555556,\"#d8576b\"],[0.6666666666666666,\"#ed7953\"],[0.7777777777777778,\"#fb9f3a\"],[0.8888888888888888,\"#fdca26\"],[1.0,\"#f0f921\"]]}],\"heatmap\":[{\"type\":\"heatmap\",\"colorbar\":{\"outlinewidth\":0,\"ticks\":\"\"},\"colorscale\":[[0.0,\"#0d0887\"],[0.1111111111111111,\"#46039f\"],[0.2222222222222222,\"#7201a8\"],[0.3333333333333333,\"#9c179e\"],[0.4444444444444444,\"#bd3786\"],[0.5555555555555556,\"#d8576b\"],[0.6666666666666666,\"#ed7953\"],[0.7777777777777778,\"#fb9f3a\"],[0.8888888888888888,\"#fdca26\"],[1.0,\"#f0f921\"]]}],\"heatmapgl\":[{\"type\":\"heatmapgl\",\"colorbar\":{\"outlinewidth\":0,\"ticks\":\"\"},\"colorscale\":[[0.0,\"#0d0887\"],[0.1111111111111111,\"#46039f\"],[0.2222222222222222,\"#7201a8\"],[0.3333333333333333,\"#9c179e\"],[0.4444444444444444,\"#bd3786\"],[0.5555555555555556,\"#d8576b\"],[0.6666666666666666,\"#ed7953\"],[0.7777777777777778,\"#fb9f3a\"],[0.8888888888888888,\"#fdca26\"],[1.0,\"#f0f921\"]]}],\"contourcarpet\":[{\"type\":\"contourcarpet\",\"colorbar\":{\"outlinewidth\":0,\"ticks\":\"\"}}],\"contour\":[{\"type\":\"contour\",\"colorbar\":{\"outlinewidth\":0,\"ticks\":\"\"},\"colorscale\":[[0.0,\"#0d0887\"],[0.1111111111111111,\"#46039f\"],[0.2222222222222222,\"#7201a8\"],[0.3333333333333333,\"#9c179e\"],[0.4444444444444444,\"#bd3786\"],[0.5555555555555556,\"#d8576b\"],[0.6666666666666666,\"#ed7953\"],[0.7777777777777778,\"#fb9f3a\"],[0.8888888888888888,\"#fdca26\"],[1.0,\"#f0f921\"]]}],\"surface\":[{\"type\":\"surface\",\"colorbar\":{\"outlinewidth\":0,\"ticks\":\"\"},\"colorscale\":[[0.0,\"#0d0887\"],[0.1111111111111111,\"#46039f\"],[0.2222222222222222,\"#7201a8\"],[0.3333333333333333,\"#9c179e\"],[0.4444444444444444,\"#bd3786\"],[0.5555555555555556,\"#d8576b\"],[0.6666666666666666,\"#ed7953\"],[0.7777777777777778,\"#fb9f3a\"],[0.8888888888888888,\"#fdca26\"],[1.0,\"#f0f921\"]]}],\"mesh3d\":[{\"type\":\"mesh3d\",\"colorbar\":{\"outlinewidth\":0,\"ticks\":\"\"}}],\"scatter\":[{\"fillpattern\":{\"fillmode\":\"overlay\",\"size\":10,\"solidity\":0.2},\"type\":\"scatter\"}],\"parcoords\":[{\"type\":\"parcoords\",\"line\":{\"colorbar\":{\"outlinewidth\":0,\"ticks\":\"\"}}}],\"scatterpolargl\":[{\"type\":\"scatterpolargl\",\"marker\":{\"colorbar\":{\"outlinewidth\":0,\"ticks\":\"\"}}}],\"bar\":[{\"error_x\":{\"color\":\"#2a3f5f\"},\"error_y\":{\"color\":\"#2a3f5f\"},\"marker\":{\"line\":{\"color\":\"#E5ECF6\",\"width\":0.5},\"pattern\":{\"fillmode\":\"overlay\",\"size\":10,\"solidity\":0.2}},\"type\":\"bar\"}],\"scattergeo\":[{\"type\":\"scattergeo\",\"marker\":{\"colorbar\":{\"outlinewidth\":0,\"ticks\":\"\"}}}],\"scatterpolar\":[{\"type\":\"scatterpolar\",\"marker\":{\"colorbar\":{\"outlinewidth\":0,\"ticks\":\"\"}}}],\"histogram\":[{\"marker\":{\"pattern\":{\"fillmode\":\"overlay\",\"size\":10,\"solidity\":0.2}},\"type\":\"histogram\"}],\"scattergl\":[{\"type\":\"scattergl\",\"marker\":{\"colorbar\":{\"outlinewidth\":0,\"ticks\":\"\"}}}],\"scatter3d\":[{\"type\":\"scatter3d\",\"line\":{\"colorbar\":{\"outlinewidth\":0,\"ticks\":\"\"}},\"marker\":{\"colorbar\":{\"outlinewidth\":0,\"ticks\":\"\"}}}],\"scattermapbox\":[{\"type\":\"scattermapbox\",\"marker\":{\"colorbar\":{\"outlinewidth\":0,\"ticks\":\"\"}}}],\"scatterternary\":[{\"type\":\"scatterternary\",\"marker\":{\"colorbar\":{\"outlinewidth\":0,\"ticks\":\"\"}}}],\"scattercarpet\":[{\"type\":\"scattercarpet\",\"marker\":{\"colorbar\":{\"outlinewidth\":0,\"ticks\":\"\"}}}],\"carpet\":[{\"aaxis\":{\"endlinecolor\":\"#2a3f5f\",\"gridcolor\":\"white\",\"linecolor\":\"white\",\"minorgridcolor\":\"white\",\"startlinecolor\":\"#2a3f5f\"},\"baxis\":{\"endlinecolor\":\"#2a3f5f\",\"gridcolor\":\"white\",\"linecolor\":\"white\",\"minorgridcolor\":\"white\",\"startlinecolor\":\"#2a3f5f\"},\"type\":\"carpet\"}],\"table\":[{\"cells\":{\"fill\":{\"color\":\"#EBF0F8\"},\"line\":{\"color\":\"white\"}},\"header\":{\"fill\":{\"color\":\"#C8D4E3\"},\"line\":{\"color\":\"white\"}},\"type\":\"table\"}],\"barpolar\":[{\"marker\":{\"line\":{\"color\":\"#E5ECF6\",\"width\":0.5},\"pattern\":{\"fillmode\":\"overlay\",\"size\":10,\"solidity\":0.2}},\"type\":\"barpolar\"}],\"pie\":[{\"automargin\":true,\"type\":\"pie\"}]},\"layout\":{\"autotypenumbers\":\"strict\",\"colorway\":[\"#636efa\",\"#EF553B\",\"#00cc96\",\"#ab63fa\",\"#FFA15A\",\"#19d3f3\",\"#FF6692\",\"#B6E880\",\"#FF97FF\",\"#FECB52\"],\"font\":{\"color\":\"#2a3f5f\"},\"hovermode\":\"closest\",\"hoverlabel\":{\"align\":\"left\"},\"paper_bgcolor\":\"white\",\"plot_bgcolor\":\"#E5ECF6\",\"polar\":{\"bgcolor\":\"#E5ECF6\",\"angularaxis\":{\"gridcolor\":\"white\",\"linecolor\":\"white\",\"ticks\":\"\"},\"radialaxis\":{\"gridcolor\":\"white\",\"linecolor\":\"white\",\"ticks\":\"\"}},\"ternary\":{\"bgcolor\":\"#E5ECF6\",\"aaxis\":{\"gridcolor\":\"white\",\"linecolor\":\"white\",\"ticks\":\"\"},\"baxis\":{\"gridcolor\":\"white\",\"linecolor\":\"white\",\"ticks\":\"\"},\"caxis\":{\"gridcolor\":\"white\",\"linecolor\":\"white\",\"ticks\":\"\"}},\"coloraxis\":{\"colorbar\":{\"outlinewidth\":0,\"ticks\":\"\"}},\"colorscale\":{\"sequential\":[[0.0,\"#0d0887\"],[0.1111111111111111,\"#46039f\"],[0.2222222222222222,\"#7201a8\"],[0.3333333333333333,\"#9c179e\"],[0.4444444444444444,\"#bd3786\"],[0.5555555555555556,\"#d8576b\"],[0.6666666666666666,\"#ed7953\"],[0.7777777777777778,\"#fb9f3a\"],[0.8888888888888888,\"#fdca26\"],[1.0,\"#f0f921\"]],\"sequentialminus\":[[0.0,\"#0d0887\"],[0.1111111111111111,\"#46039f\"],[0.2222222222222222,\"#7201a8\"],[0.3333333333333333,\"#9c179e\"],[0.4444444444444444,\"#bd3786\"],[0.5555555555555556,\"#d8576b\"],[0.6666666666666666,\"#ed7953\"],[0.7777777777777778,\"#fb9f3a\"],[0.8888888888888888,\"#fdca26\"],[1.0,\"#f0f921\"]],\"diverging\":[[0,\"#8e0152\"],[0.1,\"#c51b7d\"],[0.2,\"#de77ae\"],[0.3,\"#f1b6da\"],[0.4,\"#fde0ef\"],[0.5,\"#f7f7f7\"],[0.6,\"#e6f5d0\"],[0.7,\"#b8e186\"],[0.8,\"#7fbc41\"],[0.9,\"#4d9221\"],[1,\"#276419\"]]},\"xaxis\":{\"gridcolor\":\"white\",\"linecolor\":\"white\",\"ticks\":\"\",\"title\":{\"standoff\":15},\"zerolinecolor\":\"white\",\"automargin\":true,\"zerolinewidth\":2},\"yaxis\":{\"gridcolor\":\"white\",\"linecolor\":\"white\",\"ticks\":\"\",\"title\":{\"standoff\":15},\"zerolinecolor\":\"white\",\"automargin\":true,\"zerolinewidth\":2},\"scene\":{\"xaxis\":{\"backgroundcolor\":\"#E5ECF6\",\"gridcolor\":\"white\",\"linecolor\":\"white\",\"showbackground\":true,\"ticks\":\"\",\"zerolinecolor\":\"white\",\"gridwidth\":2},\"yaxis\":{\"backgroundcolor\":\"#E5ECF6\",\"gridcolor\":\"white\",\"linecolor\":\"white\",\"showbackground\":true,\"ticks\":\"\",\"zerolinecolor\":\"white\",\"gridwidth\":2},\"zaxis\":{\"backgroundcolor\":\"#E5ECF6\",\"gridcolor\":\"white\",\"linecolor\":\"white\",\"showbackground\":true,\"ticks\":\"\",\"zerolinecolor\":\"white\",\"gridwidth\":2}},\"shapedefaults\":{\"line\":{\"color\":\"#2a3f5f\"}},\"annotationdefaults\":{\"arrowcolor\":\"#2a3f5f\",\"arrowhead\":0,\"arrowwidth\":1},\"geo\":{\"bgcolor\":\"white\",\"landcolor\":\"#E5ECF6\",\"subunitcolor\":\"white\",\"showland\":true,\"showlakes\":true,\"lakecolor\":\"white\"},\"title\":{\"x\":0.05},\"mapbox\":{\"style\":\"light\"}}},\"xaxis\":{\"anchor\":\"y\",\"domain\":[0.0,1.0],\"title\":{\"text\":\"Year\"},\"type\":\"linear\"},\"yaxis\":{\"anchor\":\"x\",\"domain\":[0.0,1.0],\"title\":{\"text\":\"Total Passengers\"}},\"legend\":{\"title\":{\"text\":\"Continent\"},\"tracegroupgap\":0},\"title\":{\"text\":\"Total Yearly Passengers by Continent\",\"x\":0.5},\"hovermode\":\"x\",\"showlegend\":true,\"updatemenus\":[{\"active\":3,\"buttons\":[{\"args\":[{\"visible\":[true,false,false,false,false,true,false,false,false,false,true,false,false,false,false,true,false,false,false,false,true,false,false,false,false,true,false,false,false,false,true,false,false,false,false,true,false,false,false,false,true,false,false,false,false,true,false,false,false,false,true,false,false,false,false,true,false,false,false,false,true,false,false,false,false,true,false,false,false,false,true,false,false,false,false,true,false,false,false,false]}],\"label\":\"Africa\",\"method\":\"update\"},{\"args\":[{\"visible\":[false,true,false,false,false,false,true,false,false,false,false,true,false,false,false,false,true,false,false,false,false,true,false,false,false,false,true,false,false,false,false,true,false,false,false,false,true,false,false,false,false,true,false,false,false,false,true,false,false,false,false,true,false,false,false,false,true,false,false,false,false,true,false,false,false,false,true,false,false,false,false,true,false,false,false,false,true,false,false,false]}],\"label\":\"Europe\",\"method\":\"update\"},{\"args\":[{\"visible\":[false,false,true,false,false,false,false,true,false,false,false,false,true,false,false,false,false,true,false,false,false,false,true,false,false,false,false,true,false,false,false,false,true,false,false,false,false,true,false,false,false,false,true,false,false,false,false,true,false,false,false,false,true,false,false,false,false,true,false,false,false,false,true,false,false,false,false,true,false,false,false,false,true,false,false,false,false,true,false,false]}],\"label\":\"North America\",\"method\":\"update\"},{\"args\":[{\"visible\":[false,false,false,true,false,false,false,false,true,false,false,false,false,true,false,false,false,false,true,false,false,false,false,true,false,false,false,false,true,false,false,false,false,true,false,false,false,false,true,false,false,false,false,true,false,false,false,false,true,false,false,false,false,true,false,false,false,false,true,false,false,false,false,true,false,false,false,false,true,false,false,false,false,true,false,false,false,false,true,false]}],\"label\":\"Oceania\",\"method\":\"update\"},{\"args\":[{\"visible\":[false,false,false,false,true,false,false,false,false,true,false,false,false,false,true,false,false,false,false,true,false,false,false,false,true,false,false,false,false,true,false,false,false,false,true,false,false,false,false,true,false,false,false,false,true,false,false,false,false,true,false,false,false,false,true,false,false,false,false,true,false,false,false,false,true,false,false,false,false,true,false,false,false,false,true,false,false,false,false,true]}],\"label\":\"South America\",\"method\":\"update\"}],\"direction\":\"down\",\"showactive\":true,\"x\":0.17,\"xanchor\":\"right\",\"y\":1.07,\"yanchor\":\"middle\"}]},                        {\"responsive\": true}                    ).then(function(){\n",
       "                            \n",
       "var gd = document.getElementById('cd8588bf-0f8c-47dc-843e-c8a84268b29e');\n",
       "var x = new MutationObserver(function (mutations, observer) {{\n",
       "        var display = window.getComputedStyle(gd).display;\n",
       "        if (!display || display === 'none') {{\n",
       "            console.log([gd, 'removed!']);\n",
       "            Plotly.purge(gd);\n",
       "            observer.disconnect();\n",
       "        }}\n",
       "}});\n",
       "\n",
       "// Listen for the removal of the full notebook cells\n",
       "var notebookContainer = gd.closest('#notebook-container');\n",
       "if (notebookContainer) {{\n",
       "    x.observe(notebookContainer, {childList: true});\n",
       "}}\n",
       "\n",
       "// Listen for the clearing of the current output cell\n",
       "var outputEl = gd.closest('.output');\n",
       "if (outputEl) {{\n",
       "    x.observe(outputEl, {childList: true});\n",
       "}}\n",
       "\n",
       "                        })                };                });            </script>        </div>"
      ]
     },
     "metadata": {},
     "output_type": "display_data"
    }
   ],
   "source": [
    "sum_by_country_ea_na = port_replaced_except_asia_na.groupby(['Year', 'Continent']).sum().reset_index().round(2)\n",
    "\n",
    "#Calculate total passengers by continent\n",
    "continent_with_max_passengers = sum_by_country_ea_na.loc[sum_by_country_ea_na['Total Passengers'].idxmax(), 'Continent']\n",
    "\n",
    "#line graph using px\n",
    "fig = px.line(sum_by_country_ea_na, x='Year', y='Total Passengers', color='Continent',\n",
    "              labels={'Year': 'Year', 'Total Passengers': 'Total Passengers', 'Continent': 'Continent'},\n",
    "              title='Total Yearly Passengers by Continent',\n",
    "              hover_name='Continent')\n",
    "\n",
    "#layout px\n",
    "fig.update_layout(\n",
    "    xaxis=dict(type='linear'),  # Slider requires numeric values for x-axis\n",
    "    xaxis_title='Year',\n",
    "    yaxis_title='Total Passengers',\n",
    "    hovermode='x',  \n",
    "    showlegend=True,\n",
    "    legend_title='Continent',\n",
    "    title_x=0.5,\n",
    ")\n",
    "\n",
    "#default value = continent with highest total passenger\n",
    "default_visible = [False] * len(fig.data)\n",
    "max_continent_index = sum_by_country_ea_na['Continent'].tolist().index(continent_with_max_passengers)\n",
    "default_visible[max_continent_index] = True\n",
    "for i, trace in enumerate(fig.data):\n",
    "    trace.visible = default_visible[i]\n",
    "\n",
    "\n",
    "\n",
    "#create dropdown box\n",
    "buttons = []\n",
    "default_checkbox = [True if i == max_continent_index else False for i in range(len(sum_by_country_ea_na['Continent'].unique()))]\n",
    "\n",
    "for i, continent in enumerate(sum_by_country_ea_na['Continent'].unique()):\n",
    "    buttons.append(\n",
    "        {\n",
    "            'label': continent,\n",
    "            'method': 'update',\n",
    "            'args': [{'visible': [True if c == continent else False for c in sum_by_country_ea_na['Continent']]}]\n",
    "        }\n",
    "    )\n",
    "\n",
    "#default dropdown value to the continent with the highest total passenger\n",
    "default_dropdown_index = sum_by_country_ea_na['Continent'].unique().tolist().index(continent_with_max_passengers)    \n",
    "    \n",
    "fig.update_layout(\n",
    "    updatemenus=[\n",
    "        {\n",
    "            'buttons': buttons,\n",
    "            'direction': 'down',\n",
    "            'showactive': True,\n",
    "            'active': default_dropdown_index,\n",
    "            'x': 0.17,\n",
    "            'xanchor': 'right',\n",
    "            'y': 1.07,\n",
    "            'yanchor': 'middle',\n",
    "        }\n",
    "    ]\n",
    ")\n",
    "\n",
    "fig.show()"
   ]
  },
  {
   "cell_type": "code",
   "execution_count": null,
   "id": "dd1b4432",
   "metadata": {},
   "outputs": [],
   "source": []
  }
 ],
 "metadata": {
  "kernelspec": {
   "display_name": "Python 3 (ipykernel)",
   "language": "python",
   "name": "python3"
  },
  "language_info": {
   "codemirror_mode": {
    "name": "ipython",
    "version": 3
   },
   "file_extension": ".py",
   "mimetype": "text/x-python",
   "name": "python",
   "nbconvert_exporter": "python",
   "pygments_lexer": "ipython3",
   "version": "3.9.13"
  }
 },
 "nbformat": 4,
 "nbformat_minor": 5
}
